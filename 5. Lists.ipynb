{
 "cells": [
  {
   "cell_type": "code",
   "execution_count": 2,
   "id": "825f01f5",
   "metadata": {
    "scrolled": true
   },
   "outputs": [
    {
     "name": "stdout",
     "output_type": "stream",
     "text": [
      "[1, 2, 3, 4, 5]\n",
      "['One', 'Two', 'Three']\n",
      "[1, 'Two', 3, 'Four', 5]\n"
     ]
    }
   ],
   "source": [
    "# Creating a simple list of numbers\n",
    "my_list1 = [1, 2, 3, 4, 5]\n",
    "print(my_list1)\n",
    "# Creating a simple list of strings\n",
    "my_list2 = ['One','Two','Three']\n",
    "print(my_list2)\n",
    "# Creating a simple list of strings and numbers\n",
    "my_list3 = [1, 'Two', 3, 'Four', 5]\n",
    "print(my_list3)"
   ]
  },
  {
   "cell_type": "code",
   "execution_count": 8,
   "id": "78243b89",
   "metadata": {},
   "outputs": [
    {
     "name": "stdout",
     "output_type": "stream",
     "text": [
      "The first element is: 1\n",
      "The fourth element is: 4\n"
     ]
    }
   ],
   "source": [
    "# Creating a simple list\n",
    "my_list = [1, 2, 3, 4, 5]\n",
    "\n",
    "# Accessing elements in a list\n",
    "first_element = my_list[0]\n",
    "print(\"The first element is:\", first_element)\n",
    "\n",
    "# Accessing elements in a list\n",
    "fourth_element = my_list[3]\n",
    "print(\"The fourth element is:\", fourth_element)"
   ]
  },
  {
   "cell_type": "code",
   "execution_count": 10,
   "id": "411d346a",
   "metadata": {},
   "outputs": [
    {
     "name": "stdout",
     "output_type": "stream",
     "text": [
      "A subset of the list: [2, 3, 4]\n",
      "A subset of the list: [4, 5]\n"
     ]
    }
   ],
   "source": [
    "# Creating a simple list\n",
    "my_list = [1, 2, 3, 4, 5]\n",
    "\n",
    "# Slicing a list\n",
    "subset = my_list[1:4]\n",
    "print(\"A subset of the list:\",subset)\n",
    "\n",
    "# Slicing a list\n",
    "subset = my_list[3:]\n",
    "print(\"A subset of the list:\",subset)"
   ]
  },
  {
   "cell_type": "code",
   "execution_count": 13,
   "id": "259b31bd",
   "metadata": {},
   "outputs": [
    {
     "name": "stdout",
     "output_type": "stream",
     "text": [
      "The modified list: [1, 2, 10, 4, 5]\n",
      "The modified list: ['BEEILAB', 2, 10, 4, 5]\n"
     ]
    }
   ],
   "source": [
    "# Creating a simple list\n",
    "my_list = [1, 2, 3, 4, 5]\n",
    "# Modifying a list\n",
    "my_list[2] = 10\n",
    "print(\"The modified list:\",my_list)\n",
    "# Modifying a list\n",
    "my_list[0] = 'BEEILAB'\n",
    "print(\"The modified list:\",my_list)"
   ]
  },
  {
   "cell_type": "code",
   "execution_count": 14,
   "id": "35bcd8eb",
   "metadata": {},
   "outputs": [
    {
     "name": "stdout",
     "output_type": "stream",
     "text": [
      "The updated list: ['BEEILAB', 2, 10, 5, 6]\n"
     ]
    }
   ],
   "source": [
    "# Creating a simple list\n",
    "my_list = [1, 2, 3, 4, 5]\n",
    "# Adding and removing elements in a list\n",
    "my_list.append(6)  # Adding an element to the end\n",
    "my_list.remove(4)  # Removing a specific element\n",
    "print(\"The updated list:\",my_list)"
   ]
  },
  {
   "cell_type": "code",
   "execution_count": 1,
   "id": "5102f480",
   "metadata": {},
   "outputs": [
    {
     "name": "stdout",
     "output_type": "stream",
     "text": [
      "Lentgth of the list is: 5\n",
      "Is 3 present?: True\n",
      "Concatenated List: [1, 2, 3, 4, 5, 6, 7, 8, 9]\n"
     ]
    }
   ],
   "source": [
    "# Creating a simple list\n",
    "my_list = [1, 2, 3, 4, 5]\n",
    "# List operations\n",
    "length = len(my_list)  # Finding the length of the list\n",
    "print('Lentgth of the list is:',length)\n",
    "is_present = 3 in my_list  # Checking if an element is present\n",
    "print('Is 3 present?:',is_present)\n",
    "concatenated_list = my_list + [6,7, 8, 9]  # Concatenating lists\n",
    "print('Concatenated List:',concatenated_list)"
   ]
  },
  {
   "cell_type": "code",
   "execution_count": 20,
   "id": "7ef35bc9",
   "metadata": {},
   "outputs": [
    {
     "name": "stdout",
     "output_type": "stream",
     "text": [
      "Reversed List: [5, 4, 3, 2, 1]\n",
      "Sorted list: [1, 2, 3, 4, 5]\n"
     ]
    }
   ],
   "source": [
    "# Creating a simple list\n",
    "my_list = [1, 2, 3, 4, 5]\n",
    "# List methods\n",
    "my_list.reverse()  # Reversing the order of elements\n",
    "print(\"Reversed List:\",my_list)\n",
    "sorted_list = sorted(my_list)  # Sorting the list\n",
    "print(\"Sorted list:\",sorted_list)"
   ]
  },
  {
   "cell_type": "code",
   "execution_count": null,
   "id": "f6395cd2",
   "metadata": {},
   "outputs": [],
   "source": []
  }
 ],
 "metadata": {
  "kernelspec": {
   "display_name": "Python 3 (ipykernel)",
   "language": "python",
   "name": "python3"
  },
  "language_info": {
   "codemirror_mode": {
    "name": "ipython",
    "version": 3
   },
   "file_extension": ".py",
   "mimetype": "text/x-python",
   "name": "python",
   "nbconvert_exporter": "python",
   "pygments_lexer": "ipython3",
   "version": "3.11.3"
  }
 },
 "nbformat": 4,
 "nbformat_minor": 5
}
