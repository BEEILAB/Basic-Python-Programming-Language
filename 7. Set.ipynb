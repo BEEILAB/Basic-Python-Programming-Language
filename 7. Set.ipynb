{
 "cells": [
  {
   "cell_type": "code",
   "execution_count": 4,
   "id": "b067e67f",
   "metadata": {},
   "outputs": [
    {
     "name": "stdout",
     "output_type": "stream",
     "text": [
      "{1, 2, 3, 4, 5}\n",
      "Set with Repetitive Values: {1, 2, 3, 4, 5}\n"
     ]
    }
   ],
   "source": [
    "# Creating a set with elements 1, 2, 3, 4, and 5\n",
    "my_set = {1, 2, 3, 4, 5}\n",
    "# Printing the set to the console\n",
    "print(my_set)\n",
    "# Creating a set with repetitive values\n",
    "repetitive_set = {1, 2, 2, 3, 3, 4, 4, 5, 5}\n",
    "print(\"Set with Repetitive Values:\", repetitive_set)"
   ]
  },
  {
   "cell_type": "code",
   "execution_count": 7,
   "id": "ee02bbce",
   "metadata": {},
   "outputs": [
    {
     "name": "stdout",
     "output_type": "stream",
     "text": [
      "Is 3 in the set? True\n",
      "Is 6 in the set? False\n",
      "First element: 1\n",
      "Last element: 5\n"
     ]
    }
   ],
   "source": [
    "# Creating a set\n",
    "my_set = {1, 2, 3, 4, 5}\n",
    "# Accessing elements using the 'in' keyword\n",
    "print(\"Is 3 in the set?\", 3 in my_set)\n",
    "print(\"Is 6 in the set?\", 6 in my_set)\n",
    "# Converting the set to a list for indexing\n",
    "set_as_list = list(my_set)\n",
    "print(\"First element:\", set_as_list[0])\n",
    "print(\"Last element:\", set_as_list[-1])"
   ]
  },
  {
   "cell_type": "code",
   "execution_count": 11,
   "id": "8139a07f",
   "metadata": {},
   "outputs": [
    {
     "name": "stdout",
     "output_type": "stream",
     "text": [
      "Updated Set: {1, 2, 3, 4, 5, 6, 7, 8}\n",
      "Modified Set: {2, 3, 4, 5, 6, 7, 8, 9}\n"
     ]
    }
   ],
   "source": [
    "# Creating a set\n",
    "my_set = {1, 2, 3, 4, 5}\n",
    "# Using the update method to add multiple elements\n",
    "my_set.update({6, 7, 8})\n",
    "# Displaying the updated set\n",
    "print(\"Updated Set:\", my_set)\n",
    "# Using the add method to add a single element\n",
    "my_set.add(9)\n",
    "# Using the remove method to eliminate a single element\n",
    "my_set.remove(1)\n",
    "# Displaying the set after adding 9 and removing 1\n",
    "print(\"Modified Set:\", my_set)"
   ]
  }
 ],
 "metadata": {
  "kernelspec": {
   "display_name": "Python 3 (ipykernel)",
   "language": "python",
   "name": "python3"
  },
  "language_info": {
   "codemirror_mode": {
    "name": "ipython",
    "version": 3
   },
   "file_extension": ".py",
   "mimetype": "text/x-python",
   "name": "python",
   "nbconvert_exporter": "python",
   "pygments_lexer": "ipython3",
   "version": "3.11.3"
  }
 },
 "nbformat": 4,
 "nbformat_minor": 5
}
