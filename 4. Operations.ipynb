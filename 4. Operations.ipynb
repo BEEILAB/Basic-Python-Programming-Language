{
 "cells": [
  {
   "cell_type": "markdown",
   "metadata": {},
   "source": [
    "## Types of Operator\n",
    "\n",
    "    Arithmetic Operators\n",
    "    Comparison (Relational) Operators\n",
    "    Assignment Operators\n",
    "    Membership Operators\n",
    "    Identity Operators\n"
   ]
  },
  {
   "cell_type": "markdown",
   "metadata": {},
   "source": [
    "### Arithmetic Operators"
   ]
  },
  {
   "cell_type": "code",
   "execution_count": 10,
   "metadata": {},
   "outputs": [
    {
     "name": "stdout",
     "output_type": "stream",
     "text": [
      "The result of a + b is 60\n"
     ]
    }
   ],
   "source": [
    "a = 40  # Initializing 'a' with the value 40\n",
    "b = 20  # Initializing 'b' with the value 20\n",
    "\n",
    "# Addition\n",
    "result_addition = a + b\n",
    "print('The result of a + b is', result_addition)"
   ]
  },
  {
   "cell_type": "code",
   "execution_count": 11,
   "metadata": {},
   "outputs": [
    {
     "name": "stdout",
     "output_type": "stream",
     "text": [
      "The result of a - b is 20\n"
     ]
    }
   ],
   "source": [
    "# Subtraction\n",
    "result_subtraction = a - b\n",
    "print('The result of a - b is', result_subtraction)"
   ]
  },
  {
   "cell_type": "code",
   "execution_count": 12,
   "metadata": {},
   "outputs": [
    {
     "name": "stdout",
     "output_type": "stream",
     "text": [
      "The result of a * b is 800\n"
     ]
    }
   ],
   "source": [
    "# Multiplication\n",
    "result_multiplication = a * b\n",
    "print('The result of a * b is', result_multiplication)"
   ]
  },
  {
   "cell_type": "code",
   "execution_count": 13,
   "metadata": {},
   "outputs": [
    {
     "name": "stdout",
     "output_type": "stream",
     "text": [
      "The result of a / b is 2.0\n"
     ]
    }
   ],
   "source": [
    "# Division\n",
    "result_division = a / b\n",
    "print('The result of a / b is', result_division)"
   ]
  },
  {
   "cell_type": "code",
   "execution_count": 14,
   "metadata": {},
   "outputs": [
    {
     "name": "stdout",
     "output_type": "stream",
     "text": [
      "The result of a // b is 2\n"
     ]
    }
   ],
   "source": [
    "# Floor Division\n",
    "result_floor_division = a // b\n",
    "print('The result of a // b is', result_floor_division)"
   ]
  },
  {
   "cell_type": "code",
   "execution_count": 15,
   "metadata": {},
   "outputs": [
    {
     "name": "stdout",
     "output_type": "stream",
     "text": [
      "The result of a % b is 0\n"
     ]
    }
   ],
   "source": [
    "# Modulus\n",
    "result_modulus = a % b\n",
    "print('The result of a % b is', result_modulus)"
   ]
  },
  {
   "cell_type": "code",
   "execution_count": 16,
   "metadata": {},
   "outputs": [
    {
     "name": "stdout",
     "output_type": "stream",
     "text": [
      "The result of a ** b is 109951162777600000000000000000000\n"
     ]
    }
   ],
   "source": [
    "# Exponentiation\n",
    "result_exponentiation = a ** b\n",
    "print('The result of a ** b is', result_exponentiation)"
   ]
  },
  {
   "cell_type": "markdown",
   "metadata": {},
   "source": [
    "### Comparison Operators"
   ]
  },
  {
   "cell_type": "code",
   "execution_count": 17,
   "metadata": {},
   "outputs": [
    {
     "name": "stdout",
     "output_type": "stream",
     "text": [
      "The result of a == b is False\n"
     ]
    }
   ],
   "source": [
    "a = 10\n",
    "b = 20\n",
    "\n",
    "# If the values of two operands are equal, then the condition becomes true.\n",
    "result_equal = a == b\n",
    "print('The result of a == b is', result_equal)"
   ]
  },
  {
   "cell_type": "code",
   "execution_count": 18,
   "metadata": {},
   "outputs": [
    {
     "name": "stdout",
     "output_type": "stream",
     "text": [
      "The result of a != b is True\n"
     ]
    }
   ],
   "source": [
    "# If values of two operands are not equal, then the condition becomes true.\n",
    "result_not_equal = a != b\n",
    "print('The result of a != b is', result_not_equal)"
   ]
  },
  {
   "cell_type": "code",
   "execution_count": 19,
   "metadata": {},
   "outputs": [
    {
     "name": "stdout",
     "output_type": "stream",
     "text": [
      "The result of a > b is False\n"
     ]
    }
   ],
   "source": [
    "# If the value of the left operand is greater than the value of\n",
    "# the right operand, then the condition becomes true.\n",
    "result_greater_than = a > b\n",
    "print('The result of a > b is', result_greater_than)"
   ]
  },
  {
   "cell_type": "code",
   "execution_count": 20,
   "metadata": {},
   "outputs": [
    {
     "name": "stdout",
     "output_type": "stream",
     "text": [
      "The result of a < b is True\n"
     ]
    }
   ],
   "source": [
    "# If the value of the left operand is less than the value of\n",
    "# the right operand, then the condition becomes true.\n",
    "result_less_than = a < b\n",
    "print('The result of a < b is', result_less_than)"
   ]
  },
  {
   "cell_type": "code",
   "execution_count": 21,
   "metadata": {},
   "outputs": [
    {
     "name": "stdout",
     "output_type": "stream",
     "text": [
      "The result of a >= b is False\n"
     ]
    }
   ],
   "source": [
    "# If the value of the left operand is greater than or equal to the value of\n",
    "# the right operand, then the condition becomes true.\n",
    "result_greater_equal = a >= b\n",
    "print('The result of a >= b is', result_greater_equal)"
   ]
  },
  {
   "cell_type": "code",
   "execution_count": 22,
   "metadata": {},
   "outputs": [
    {
     "name": "stdout",
     "output_type": "stream",
     "text": [
      "The result of a <= b is True\n"
     ]
    }
   ],
   "source": [
    "# If the value of the left operand is less than or equal to the value of\n",
    "# the right operand, then the condition becomes true.\n",
    "result_less_equal = a <= b\n",
    "print('The result of a <= b is', result_less_equal)"
   ]
  },
  {
   "cell_type": "markdown",
   "metadata": {},
   "source": [
    "## Assignment Operators"
   ]
  },
  {
   "cell_type": "code",
   "execution_count": 23,
   "metadata": {},
   "outputs": [
    {
     "name": "stdout",
     "output_type": "stream",
     "text": [
      "a = 10\n",
      "b = 20\n"
     ]
    }
   ],
   "source": [
    "a = 10  \n",
    "b = 20\n",
    "print('a =', a)\n",
    "print('b =', b)"
   ]
  },
  {
   "cell_type": "code",
   "execution_count": 24,
   "metadata": {},
   "outputs": [
    {
     "name": "stdout",
     "output_type": "stream",
     "text": [
      "the result of a += b is 30\n"
     ]
    }
   ],
   "source": [
    "a += b  # Equivalent to: a = a + b\n",
    "print('the result of a += b is', a)"
   ]
  },
  {
   "cell_type": "code",
   "execution_count": 25,
   "metadata": {},
   "outputs": [
    {
     "name": "stdout",
     "output_type": "stream",
     "text": [
      "the result of a -= b is -10\n"
     ]
    }
   ],
   "source": [
    "a = 10\n",
    "a -= b  # Equivalent to: a = a - b\n",
    "print('the result of a -= b is', a)"
   ]
  },
  {
   "cell_type": "code",
   "execution_count": 26,
   "metadata": {},
   "outputs": [
    {
     "name": "stdout",
     "output_type": "stream",
     "text": [
      "the result of a *= b is 200\n"
     ]
    }
   ],
   "source": [
    "a = 10\n",
    "a *= b  # Equivalent to: a = a * b\n",
    "print('the result of a *= b is', a)"
   ]
  },
  {
   "cell_type": "code",
   "execution_count": 27,
   "metadata": {},
   "outputs": [
    {
     "name": "stdout",
     "output_type": "stream",
     "text": [
      "the result of a /= b is 0.5\n"
     ]
    }
   ],
   "source": [
    "a = 10\n",
    "a /= b  # Equivalent to: a = a / b\n",
    "print('the result of a /= b is', a)"
   ]
  },
  {
   "cell_type": "code",
   "execution_count": 28,
   "metadata": {},
   "outputs": [
    {
     "name": "stdout",
     "output_type": "stream",
     "text": [
      "the result of a %= b is 10\n"
     ]
    }
   ],
   "source": [
    "a = 10\n",
    "a %= b  # Equivalent to: a = a % b\n",
    "print('the result of a %= b is', a)"
   ]
  },
  {
   "cell_type": "code",
   "execution_count": 29,
   "metadata": {},
   "outputs": [
    {
     "name": "stdout",
     "output_type": "stream",
     "text": [
      "the result of a **= b is 100000000000000000000\n"
     ]
    }
   ],
   "source": [
    "a = 10\n",
    "a **= b  # Equivalent to: a = a ** b\n",
    "print('the result of a **= b is', a)"
   ]
  },
  {
   "cell_type": "code",
   "execution_count": 30,
   "metadata": {},
   "outputs": [
    {
     "name": "stdout",
     "output_type": "stream",
     "text": [
      "the result of a //= b is 0\n"
     ]
    }
   ],
   "source": [
    "a = 10\n",
    "a //= b  # Equivalent to: a = a // b\n",
    "print('the result of a //= b is', a)"
   ]
  },
  {
   "cell_type": "markdown",
   "metadata": {},
   "source": [
    "### Membership Operators"
   ]
  },
  {
   "cell_type": "code",
   "execution_count": 31,
   "metadata": {},
   "outputs": [
    {
     "name": "stdout",
     "output_type": "stream",
     "text": [
      "The result of a in b is True\n"
     ]
    }
   ],
   "source": [
    "# Assigning the value 1 to variable 'a'\n",
    "a = 1\n",
    "\n",
    "# Creating a tuple 'b' with values (1, 2, 3, 6, 5)\n",
    "b = (1, 2, 3, 6, 5)\n",
    "\n",
    "# Using the 'in' operator to check if 'a' is in the sequence 'b'\n",
    "print('The result of a in b is', a in b)"
   ]
  },
  {
   "cell_type": "code",
   "execution_count": 32,
   "metadata": {},
   "outputs": [
    {
     "name": "stdout",
     "output_type": "stream",
     "text": [
      "The result of a not in b is False\n"
     ]
    }
   ],
   "source": [
    "# Using the 'not in' operator to check if 'a' is not in the sequence 'b'\n",
    "print('The result of a not in b is', a not in b)"
   ]
  },
  {
   "cell_type": "markdown",
   "metadata": {},
   "source": [
    "# Identity Operator"
   ]
  },
  {
   "cell_type": "code",
   "execution_count": 33,
   "metadata": {},
   "outputs": [
    {
     "name": "stdout",
     "output_type": "stream",
     "text": [
      "The result of x is y: False\n"
     ]
    }
   ],
   "source": [
    "# Identity Operator - is\n",
    "x = [1, 2, 3]\n",
    "y = [1, 2, 3]\n",
    "result_is = x is y\n",
    "print('The result of x is y:', result_is)"
   ]
  },
  {
   "cell_type": "code",
   "execution_count": 34,
   "metadata": {},
   "outputs": [
    {
     "name": "stdout",
     "output_type": "stream",
     "text": [
      "The result of x is not y: True\n"
     ]
    }
   ],
   "source": [
    "# Identity Operator - is not\n",
    "result_is_not = x is not y\n",
    "print('The result of x is not y:', result_is_not)"
   ]
  },
  {
   "cell_type": "code",
   "execution_count": null,
   "metadata": {},
   "outputs": [],
   "source": []
  }
 ],
 "metadata": {
  "kernelspec": {
   "display_name": "Python 3 (ipykernel)",
   "language": "python",
   "name": "python3"
  },
  "language_info": {
   "codemirror_mode": {
    "name": "ipython",
    "version": 3
   },
   "file_extension": ".py",
   "mimetype": "text/x-python",
   "name": "python",
   "nbconvert_exporter": "python",
   "pygments_lexer": "ipython3",
   "version": "3.11.3"
  },
  "widgets": {
   "state": {},
   "version": "1.1.2"
  }
 },
 "nbformat": 4,
 "nbformat_minor": 2
}
