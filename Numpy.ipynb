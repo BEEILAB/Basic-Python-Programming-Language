{
 "cells": [
  {
   "cell_type": "code",
   "execution_count": 2,
   "id": "ec5a9f93",
   "metadata": {},
   "outputs": [],
   "source": [
    "import numpy as np"
   ]
  },
  {
   "cell_type": "code",
   "execution_count": 3,
   "id": "b27d74f1",
   "metadata": {},
   "outputs": [],
   "source": [
    "# Creating 1D array\n",
    "arr_1d = np.array([1, 2, 3])\n",
    "\n",
    "# Creating 2D array\n",
    "arr_2d = np.array([[1, 2, 3], [4, 5, 6]])\n",
    "\n",
    "# Creating 3D array\n",
    "arr_3d = np.array([[[1, 2], [3, 4]], [[5, 6], [7, 8]]])"
   ]
  },
  {
   "cell_type": "code",
   "execution_count": 4,
   "id": "1ec66c59",
   "metadata": {},
   "outputs": [
    {
     "name": "stdout",
     "output_type": "stream",
     "text": [
      "(2, 3)\n"
     ]
    }
   ],
   "source": [
    "# Array Shape and Reshaping\n",
    "arr = np.array([[1, 2, 3], [4, 5, 6]])\n",
    "\n",
    "# Shape\n",
    "shape = arr.shape\n",
    "print(shape)\n",
    "\n",
    "# Reshaping\n",
    "reshaped_arr = arr.reshape((3, 2))"
   ]
  },
  {
   "cell_type": "code",
   "execution_count": 5,
   "id": "9a95a9c1",
   "metadata": {},
   "outputs": [
    {
     "name": "stdout",
     "output_type": "stream",
     "text": [
      "[[0.06482534 0.68076252 0.38018597]\n",
      " [0.95233462 0.44024693 0.13840988]\n",
      " [0.8937085  0.44726015 0.0559222 ]]\n"
     ]
    }
   ],
   "source": [
    "# Random Module in NumPy\n",
    "random_array = np.random.rand(3, 3)  # 3x3 array of random values between 0 and 1\n",
    "print(random_array)"
   ]
  },
  {
   "cell_type": "code",
   "execution_count": 6,
   "id": "f2463a18",
   "metadata": {},
   "outputs": [
    {
     "name": "stdout",
     "output_type": "stream",
     "text": [
      "7\n"
     ]
    }
   ],
   "source": [
    "random_int = np.random.randint(1, 10)  # Random integer between 1 and 10\n",
    "print(random_int)"
   ]
  },
  {
   "cell_type": "code",
   "execution_count": 7,
   "id": "023de495",
   "metadata": {},
   "outputs": [],
   "source": [
    "# Creating a 1D array\n",
    "arr = np.array([1, 2, 3, 4, 5])\n",
    "\n",
    "# Performing mathematical and statistical operations\n",
    "mean_value = np.mean(arr)  # Calculating the mean\n",
    "median_value = np.median(arr)  # Calculating the median\n",
    "std_deviation = np.std(arr)  # Calculating the standard deviation\n",
    "min_value = np.min(arr)  # Finding the minimum value\n",
    "max_value = np.max(arr)  # Finding the maximum value"
   ]
  },
  {
   "cell_type": "code",
   "execution_count": 8,
   "id": "1424f458",
   "metadata": {},
   "outputs": [],
   "source": [
    "# Generating random standard normal matrices\n",
    "a = np.random.standard_normal((2, 3))\n",
    "b = np.random.standard_normal((2, 3))\n",
    "\n",
    "# Vertically stacking matrices 'a' and 'b' using vstack\n",
    "v = np.vstack([a, b])\n",
    "\n",
    "# Horizontally stacking matrices 'a' and 'b' using hstack\n",
    "h = np.hstack([a, b])"
   ]
  },
  {
   "cell_type": "code",
   "execution_count": 15,
   "id": "3bd7e72d",
   "metadata": {},
   "outputs": [
    {
     "name": "stdout",
     "output_type": "stream",
     "text": [
      "\n",
      "Original Array:\n",
      "[[1 2 3]\n",
      " [4 5 6]]\n",
      "\n",
      "Transposed Array:\n",
      "[[1 4]\n",
      " [2 5]\n",
      " [3 6]]\n"
     ]
    }
   ],
   "source": [
    "# Creating a 2D array\n",
    "arr = np.array([[1, 2, 3], [4, 5, 6]])\n",
    "\n",
    "# Printing the original array\n",
    "print(\"\\nOriginal Array:\")\n",
    "print(arr)\n",
    "# Transposing the array using the transpose method\n",
    "transposed_arr = arr.transpose()\n",
    "\n",
    "# Printing the transposed array\n",
    "print(\"\\nTransposed Array:\")\n",
    "print(transposed_arr)"
   ]
  },
  {
   "cell_type": "code",
   "execution_count": 17,
   "id": "8a28e79d",
   "metadata": {},
   "outputs": [
    {
     "name": "stdout",
     "output_type": "stream",
     "text": [
      "First element: 1\n",
      "Third element: 3\n",
      "Subset array: [2 3 4]\n"
     ]
    }
   ],
   "source": [
    "# Creating a 1D array\n",
    "arr_1d = np.array([1, 2, 3, 4, 5])\n",
    "\n",
    "# Accessing individual elements by index\n",
    "print(\"First element:\", arr_1d[0])\n",
    "print(\"Third element:\", arr_1d[2])\n",
    "\n",
    "# Slicing to extract a subset of the array\n",
    "subset_array = arr_1d[1:4]\n",
    "print(\"Subset array:\", subset_array)"
   ]
  },
  {
   "cell_type": "code",
   "execution_count": 18,
   "id": "8e741191",
   "metadata": {},
   "outputs": [
    {
     "name": "stdout",
     "output_type": "stream",
     "text": [
      "Modified array: [ 1  2 10  4  5]\n"
     ]
    }
   ],
   "source": [
    "# Modifying array elements through indexing\n",
    "arr_1d[2] = 10\n",
    "print(\"Modified array:\", arr_1d)"
   ]
  },
  {
   "cell_type": "code",
   "execution_count": 19,
   "id": "3a71dd95",
   "metadata": {},
   "outputs": [
    {
     "name": "stdout",
     "output_type": "stream",
     "text": [
      "Element at (1, 2): 6\n",
      "Second row: [4 5 6]\n",
      "First column: [1 4 7]\n"
     ]
    }
   ],
   "source": [
    "# Creating a 2D array\n",
    "arr_2d = np.array([[1, 2, 3], [4, 5, 6], [7, 8, 9]])\n",
    "\n",
    "# Accessing individual elements in a 2D array\n",
    "element_2_3 = arr_2d[1, 2]\n",
    "print(\"Element at (1, 2):\", element_2_3)\n",
    "\n",
    "# Slicing rows and columns in a 2D array\n",
    "second_row = arr_2d[1, :]\n",
    "first_column = arr_2d[:, 0]\n",
    "print(\"Second row:\", second_row)\n",
    "print(\"First column:\", first_column)"
   ]
  },
  {
   "cell_type": "code",
   "execution_count": null,
   "id": "99680146",
   "metadata": {},
   "outputs": [],
   "source": [
    "# Conditional indexing\n",
    "greater_than_5 = arr_2d[arr_2d > 5]\n",
    "print(\"Elements greater than 5:\", greater_than_5)"
   ]
  },
  {
   "cell_type": "code",
   "execution_count": null,
   "id": "a0cba035",
   "metadata": {},
   "outputs": [],
   "source": [
    "# Create a sample array representing daily temperatures\n",
    "temperature_data = np.array([[22, 28, 24, 30, 20],\n",
    "                             [26, 23, 27, 22, 29],\n",
    "                             [18, 21, 26, 28, 25],\n",
    "                             [30, 31, 20, 22, 27]])"
   ]
  },
  {
   "cell_type": "code",
   "execution_count": 20,
   "id": "80030f9d",
   "metadata": {},
   "outputs": [],
   "source": [
    "# Creating a 2D array\n",
    "arr = np.array([[1, 2, 3], [4, 5, 6], [7, 8, 9]])\n",
    "\n",
    "# Saving the array to a file named 'array.npy'\n",
    "np.save('array.npy', arr)\n",
    "\n",
    "# Loading the array from the saved file\n",
    "loaded_arr = np.load('array.npy')"
   ]
  },
  {
   "cell_type": "code",
   "execution_count": null,
   "id": "f7f30c5b",
   "metadata": {},
   "outputs": [],
   "source": []
  }
 ],
 "metadata": {
  "kernelspec": {
   "display_name": "Python 3 (ipykernel)",
   "language": "python",
   "name": "python3"
  },
  "language_info": {
   "codemirror_mode": {
    "name": "ipython",
    "version": 3
   },
   "file_extension": ".py",
   "mimetype": "text/x-python",
   "name": "python",
   "nbconvert_exporter": "python",
   "pygments_lexer": "ipython3",
   "version": "3.11.3"
  }
 },
 "nbformat": 4,
 "nbformat_minor": 5
}
