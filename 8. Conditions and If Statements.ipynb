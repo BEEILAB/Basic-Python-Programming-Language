{
 "cells": [
  {
   "cell_type": "code",
   "execution_count": null,
   "id": "c3cf24bd",
   "metadata": {},
   "outputs": [],
   "source": [
    "if condition:\n",
    "    # code to execute if condition is true"
   ]
  },
  {
   "cell_type": "code",
   "execution_count": 2,
   "id": "e5767dc6",
   "metadata": {},
   "outputs": [
    {
     "name": "stdout",
     "output_type": "stream",
     "text": [
      "The number is positive.\n"
     ]
    }
   ],
   "source": [
    "a = 1\n",
    "\n",
    "if a > 0:\n",
    "    print(\"The number is positive.\")"
   ]
  },
  {
   "cell_type": "code",
   "execution_count": null,
   "id": "fb484684",
   "metadata": {},
   "outputs": [],
   "source": [
    "if condition:\n",
    "    # code to execute if condition is true\n",
    "else:\n",
    "    # code to execute if condition is false"
   ]
  },
  {
   "cell_type": "code",
   "execution_count": 3,
   "id": "52710c6d",
   "metadata": {},
   "outputs": [
    {
     "name": "stdout",
     "output_type": "stream",
     "text": [
      "The number is negative.\n"
     ]
    }
   ],
   "source": [
    "a = -3\n",
    "\n",
    "if a > 0:\n",
    "    print(\"The number is positive.\")\n",
    "else:\n",
    "    print(\"The number is negative.\")"
   ]
  },
  {
   "cell_type": "code",
   "execution_count": null,
   "id": "dc62a16b",
   "metadata": {},
   "outputs": [],
   "source": [
    "if condition1:\n",
    "    # code to execute if condition1 is true\n",
    "elif condition2:\n",
    "    # code to execute if condition1 is false and condition2 is true\n",
    "elif condition3:\n",
    "    # code to execute if condition1 and condition2 are false, and condition3 is true\n",
    "else:\n",
    "    # code to execute if all conditions are false"
   ]
  },
  {
   "cell_type": "code",
   "execution_count": 5,
   "id": "b7749e56",
   "metadata": {},
   "outputs": [
    {
     "name": "stdout",
     "output_type": "stream",
     "text": [
      "The number is zero.\n"
     ]
    }
   ],
   "source": [
    "a = 0\n",
    "\n",
    "if a > 0:\n",
    "    print(\"The number is positive.\")\n",
    "elif a < 0:\n",
    "    print(\"The number is negative.\")\n",
    "else:\n",
    "    print(\"The number is zero.\")"
   ]
  },
  {
   "cell_type": "code",
   "execution_count": 9,
   "id": "c417863f",
   "metadata": {},
   "outputs": [
    {
     "name": "stdout",
     "output_type": "stream",
     "text": [
      "x and y are equal\n"
     ]
    }
   ],
   "source": [
    "# Example 1: Equality Check (==)\n",
    "x = 5\n",
    "y = 5\n",
    "\n",
    "if x == y:\n",
    "    print(\"x and y are equal\")\n",
    "else:\n",
    "    print(\"x and y are not equal\")"
   ]
  },
  {
   "cell_type": "code",
   "execution_count": 12,
   "id": "ca88ad59",
   "metadata": {},
   "outputs": [
    {
     "name": "stdout",
     "output_type": "stream",
     "text": [
      "a and b are not equal\n"
     ]
    }
   ],
   "source": [
    "# Example 2: Inequality Check (!=)\n",
    "a = 10\n",
    "b = 20\n",
    "\n",
    "if a != b:\n",
    "    print(\"a and b are not equal\")\n",
    "else:\n",
    "    print(\"a and b are equal\")"
   ]
  },
  {
   "cell_type": "code",
   "execution_count": 13,
   "id": "e221512f",
   "metadata": {},
   "outputs": [
    {
     "name": "stdout",
     "output_type": "stream",
     "text": [
      "num1 is greater than num2\n"
     ]
    }
   ],
   "source": [
    "# Example 3: Greater Than (>)\n",
    "num1 = 15\n",
    "num2 = 10\n",
    "\n",
    "if num1 > num2:\n",
    "    print(\"num1 is greater than num2\")\n",
    "else:\n",
    "    print(\"num1 is not greater than num2\")"
   ]
  },
  {
   "cell_type": "code",
   "execution_count": 14,
   "id": "3675bac2",
   "metadata": {},
   "outputs": [
    {
     "name": "stdout",
     "output_type": "stream",
     "text": [
      "price1 is less than price2\n"
     ]
    }
   ],
   "source": [
    "# Example 4: Less Than (<)\n",
    "price1 = 30\n",
    "price2 = 40\n",
    "\n",
    "if price1 < price2:\n",
    "    print(\"price1 is less than price2\")\n",
    "else:\n",
    "    print(\"price1 is not less than price2\")"
   ]
  },
  {
   "cell_type": "code",
   "execution_count": 15,
   "id": "17164abb",
   "metadata": {},
   "outputs": [
    {
     "name": "stdout",
     "output_type": "stream",
     "text": [
      "age1 is greater than or equal to age2\n"
     ]
    }
   ],
   "source": [
    "# Example 5: Greater Than or Equal To (>=)\n",
    "age1 = 25\n",
    "age2 = 20\n",
    "\n",
    "if age1 >= age2:\n",
    "    print(\"age1 is greater than or equal to age2\")\n",
    "else:\n",
    "    print(\"age1 is not greater than or equal to age2\")"
   ]
  },
  {
   "cell_type": "code",
   "execution_count": 16,
   "id": "546b171c",
   "metadata": {},
   "outputs": [
    {
     "name": "stdout",
     "output_type": "stream",
     "text": [
      "count1 is less than or equal to count2\n"
     ]
    }
   ],
   "source": [
    "# Example 6: Less Than or Equal To (<=)\n",
    "count1 = 100\n",
    "count2 = 100\n",
    "\n",
    "if count1 <= count2:\n",
    "    print(\"count1 is less than or equal to count2\")\n",
    "else:\n",
    "    print(\"count1 is not less than or equal to count2\")"
   ]
  },
  {
   "cell_type": "code",
   "execution_count": 17,
   "id": "4228d09b",
   "metadata": {},
   "outputs": [
    {
     "name": "stdout",
     "output_type": "stream",
     "text": [
      "Eligible for a loan\n"
     ]
    }
   ],
   "source": [
    "# Example 1: Using 'and' Operator\n",
    "age = 25\n",
    "income = 50000\n",
    "\n",
    "if age > 18 and income > 30000:\n",
    "    print(\"Eligible for a loan\")\n",
    "else:\n",
    "    print(\"Not eligible for a loan\")"
   ]
  },
  {
   "cell_type": "code",
   "execution_count": 18,
   "id": "f3987401",
   "metadata": {},
   "outputs": [
    {
     "name": "stdout",
     "output_type": "stream",
     "text": [
      "Person is either a student or an employee\n"
     ]
    }
   ],
   "source": [
    "# Example 2: Using 'or' Operator\n",
    "is_student = True\n",
    "is_employee = False\n",
    "\n",
    "if is_student or is_employee:\n",
    "    print(\"Person is either a student or an employee\")\n",
    "else:\n",
    "    print(\"Person is neither a student nor an employee\")"
   ]
  },
  {
   "cell_type": "code",
   "execution_count": 19,
   "id": "6a1813d3",
   "metadata": {},
   "outputs": [
    {
     "name": "stdout",
     "output_type": "stream",
     "text": [
      "Student qualifies for honors\n"
     ]
    }
   ],
   "source": [
    "# Example 3: Combination of 'and' and 'or' Operators\n",
    "marks = 85\n",
    "is_pass = True\n",
    "is_honors = False\n",
    "\n",
    "if marks >= 80 and is_pass or is_honors:\n",
    "    print(\"Student qualifies for honors\")\n",
    "else:\n",
    "    print(\"Student does not qualify for honors\")"
   ]
  },
  {
   "cell_type": "code",
   "execution_count": null,
   "id": "d8b5953d",
   "metadata": {},
   "outputs": [],
   "source": []
  }
 ],
 "metadata": {
  "kernelspec": {
   "display_name": "Python 3 (ipykernel)",
   "language": "python",
   "name": "python3"
  },
  "language_info": {
   "codemirror_mode": {
    "name": "ipython",
    "version": 3
   },
   "file_extension": ".py",
   "mimetype": "text/x-python",
   "name": "python",
   "nbconvert_exporter": "python",
   "pygments_lexer": "ipython3",
   "version": "3.11.3"
  }
 },
 "nbformat": 4,
 "nbformat_minor": 5
}
