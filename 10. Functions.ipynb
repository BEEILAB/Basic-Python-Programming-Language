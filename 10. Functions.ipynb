{
 "cells": [
  {
   "cell_type": "code",
   "execution_count": 1,
   "id": "b5ce05a3",
   "metadata": {},
   "outputs": [],
   "source": [
    "def function_name(parameters):\n",
    "    # Code to be executed\n",
    "    return result  # Optional"
   ]
  },
  {
   "cell_type": "code",
   "execution_count": 2,
   "id": "b44fa08f",
   "metadata": {},
   "outputs": [
    {
     "name": "stdout",
     "output_type": "stream",
     "text": [
      "Sum: 8\n"
     ]
    }
   ],
   "source": [
    "def add_numbers(a, b):\n",
    "    result = a + b\n",
    "    return result\n",
    "\n",
    "# Usage\n",
    "sum_result = add_numbers(5, 3)\n",
    "print(\"Sum:\", sum_result)"
   ]
  },
  {
   "cell_type": "code",
   "execution_count": 3,
   "id": "84c20cec",
   "metadata": {},
   "outputs": [
    {
     "name": "stdout",
     "output_type": "stream",
     "text": [
      "The greeting for Alice is: Hello, Alice!\n"
     ]
    }
   ],
   "source": [
    "def greet(name):\n",
    "    greeting = \"Hello, \" + name + \"!\"\n",
    "    return greeting\n",
    "\n",
    "# Usage\n",
    "user_greeting = greet(\"Alice\")\n",
    "print(\"The greeting for Alice is:\", user_greeting)"
   ]
  },
  {
   "cell_type": "code",
   "execution_count": 4,
   "id": "241cd5d5",
   "metadata": {},
   "outputs": [
    {
     "name": "stdout",
     "output_type": "stream",
     "text": [
      "The number 7 is: Odd\n"
     ]
    }
   ],
   "source": [
    "def check_even_odd(number):\n",
    "    if number % 2 == 0:\n",
    "        return \"Even\"\n",
    "    else:\n",
    "        return \"Odd\"\n",
    "\n",
    "# Usage\n",
    "result = check_even_odd(7)\n",
    "print(\"The number 7 is:\", result)"
   ]
  },
  {
   "cell_type": "code",
   "execution_count": 5,
   "id": "3f3af2ad",
   "metadata": {},
   "outputs": [
    {
     "name": "stdout",
     "output_type": "stream",
     "text": [
      "Default Greeting: Hello, Bob!\n"
     ]
    }
   ],
   "source": [
    "def greet_with_message(name, message=\"Hello\"):\n",
    "    full_message = message + \", \" + name + \"!\"\n",
    "    return full_message\n",
    "\n",
    "# Usage\n",
    "greeting = greet_with_message(\"Bob\")\n",
    "print(\"Default Greeting:\", greeting)"
   ]
  },
  {
   "cell_type": "code",
   "execution_count": 6,
   "id": "1d410965",
   "metadata": {},
   "outputs": [
    {
     "name": "stdout",
     "output_type": "stream",
     "text": [
      "Name: Alice\n",
      "Age: 25\n",
      "City: Wonderland\n"
     ]
    }
   ],
   "source": [
    "def print_info(name, age, city):\n",
    "    print(\"Name:\", name)\n",
    "    print(\"Age:\", age)\n",
    "    print(\"City:\", city)\n",
    "\n",
    "# Usage\n",
    "print_info(name=\"Alice\", age=25, city=\"Wonderland\")"
   ]
  },
  {
   "cell_type": "code",
   "execution_count": null,
   "id": "ea9454a2",
   "metadata": {},
   "outputs": [],
   "source": []
  }
 ],
 "metadata": {
  "kernelspec": {
   "display_name": "Python 3 (ipykernel)",
   "language": "python",
   "name": "python3"
  },
  "language_info": {
   "codemirror_mode": {
    "name": "ipython",
    "version": 3
   },
   "file_extension": ".py",
   "mimetype": "text/x-python",
   "name": "python",
   "nbconvert_exporter": "python",
   "pygments_lexer": "ipython3",
   "version": "3.11.3"
  }
 },
 "nbformat": 4,
 "nbformat_minor": 5
}
