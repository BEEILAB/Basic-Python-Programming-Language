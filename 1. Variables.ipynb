{
 "cells": [
  {
   "cell_type": "code",
   "execution_count": 1,
   "id": "6c04703e",
   "metadata": {},
   "outputs": [
    {
     "name": "stdout",
     "output_type": "stream",
     "text": [
      "1\n",
      "BEEILAB\n"
     ]
    }
   ],
   "source": [
    "z = 1\n",
    "name = \"BEEILAB\"\n",
    "print(z)\n",
    "print(name)"
   ]
  },
  {
   "cell_type": "code",
   "execution_count": 2,
   "id": "6503b793",
   "metadata": {},
   "outputs": [
    {
     "name": "stdout",
     "output_type": "stream",
     "text": [
      "GIS\n"
     ]
    }
   ],
   "source": [
    "x = \"GIS\"\n",
    "print(x)"
   ]
  },
  {
   "cell_type": "code",
   "execution_count": 3,
   "id": "965aa492",
   "metadata": {},
   "outputs": [
    {
     "name": "stdout",
     "output_type": "stream",
     "text": [
      "Python Remote Sensing GIS\n"
     ]
    }
   ],
   "source": [
    "x = \"Python\"\n",
    "y = \"Remote Sensing\"\n",
    "z = \"GIS\"\n",
    "print(x, y, z)\n"
   ]
  },
  {
   "cell_type": "code",
   "execution_count": 4,
   "id": "a804c01d",
   "metadata": {},
   "outputs": [
    {
     "name": "stdout",
     "output_type": "stream",
     "text": [
      "42\n",
      "Remote Sensing\n"
     ]
    }
   ],
   "source": [
    "x = 42# Here, we assign an integer value to the variable.\n",
    "print(x)\n",
    "\n",
    "x = \"Remote Sensing\" # Now, we reassign a string to the same variable.\n",
    "print(x)\n"
   ]
  },
  {
   "cell_type": "code",
   "execution_count": 5,
   "id": "55f38508",
   "metadata": {},
   "outputs": [
    {
     "name": "stdout",
     "output_type": "stream",
     "text": [
      "One\n",
      "Two\n",
      "Three\n"
     ]
    }
   ],
   "source": [
    "x, y, z = \"One\", \"Two\", \"Three\"\n",
    "print(x)\n",
    "print(y)\n",
    "print(z)\n"
   ]
  },
  {
   "cell_type": "code",
   "execution_count": 6,
   "id": "a3d85972",
   "metadata": {},
   "outputs": [
    {
     "name": "stdout",
     "output_type": "stream",
     "text": [
      "20 20 20\n"
     ]
    }
   ],
   "source": [
    "# Chained assignment: Assigning the value 20 to variables x, y, and z simultaneously\n",
    "x = y = z = 20\n",
    "\n",
    "# Printing the values of x, y, and z\n",
    "print(x, y, z)\n"
   ]
  },
  {
   "cell_type": "code",
   "execution_count": 7,
   "id": "09d2a3c8",
   "metadata": {},
   "outputs": [],
   "source": [
    "# Convert to string\n",
    "x = str(3)  # x will be '3'\n",
    "\n",
    "# Convert to integer\n",
    "y = int(3)  # y will be 3\n",
    "\n",
    "# Convert to float\n",
    "z = float(3)  # z will be 3.0\n"
   ]
  },
  {
   "cell_type": "code",
   "execution_count": null,
   "id": "2a80a837",
   "metadata": {},
   "outputs": [],
   "source": [
    "# Challenge: Type Conversion\n",
    "x = 10\n",
    "y = 5.5\n",
    "z = \"20\"\n",
    "\n",
    "# Convert y to an integer, z to a float, and x to a string.\n",
    "# Print the types of all three variables after conversion."
   ]
  },
  {
   "cell_type": "code",
   "execution_count": 8,
   "id": "efee125f",
   "metadata": {},
   "outputs": [
    {
     "name": "stdout",
     "output_type": "stream",
     "text": [
      "<class 'int'>\n",
      "<class 'str'>\n",
      "<class 'float'>\n"
     ]
    }
   ],
   "source": [
    "x = 1\n",
    "y = \"GIS\"\n",
    "z = 1.5\n",
    "\n",
    "print(type(x))  # Output: <class 'int'>\n",
    "print(type(y))  # Output: <class 'str'>\n",
    "print(type(z))  # Output: <class 'float'>"
   ]
  },
  {
   "cell_type": "code",
   "execution_count": 9,
   "id": "a462a6f5",
   "metadata": {},
   "outputs": [],
   "source": [
    "x = \"Remote Sensing\"\n",
    "# is the same as\n",
    "x = 'Remote Sensing'"
   ]
  },
  {
   "cell_type": "code",
   "execution_count": 10,
   "id": "d1716033",
   "metadata": {},
   "outputs": [],
   "source": [
    "myvar = \"BEEILAB\"\n",
    "my_var = \"BEEILAB\"\n",
    "_my_var = \"BEEILAB\"\n",
    "myVar = \"BEEILAB\"\n",
    "MYVAR = \"BEEILAB\"\n",
    "myvar2 = \"BEEILAB\""
   ]
  },
  {
   "cell_type": "code",
   "execution_count": 11,
   "id": "faa78d3b",
   "metadata": {},
   "outputs": [
    {
     "ename": "SyntaxError",
     "evalue": "invalid decimal literal (2794380656.py, line 1)",
     "output_type": "error",
     "traceback": [
      "\u001b[1;36m  Cell \u001b[1;32mIn[11], line 1\u001b[1;36m\u001b[0m\n\u001b[1;33m    2myvar = \"BEEILAB\"    # Starts with a number\u001b[0m\n\u001b[1;37m    ^\u001b[0m\n\u001b[1;31mSyntaxError\u001b[0m\u001b[1;31m:\u001b[0m invalid decimal literal\n"
     ]
    }
   ],
   "source": [
    "2myvar = \"BEEILAB\"    # Starts with a number\n",
    "my-var = \"BEEILAB\"    # Contains invalid character \"-\"\n",
    "my var = \"BEEILAB\"    # Contains invalid character \" \""
   ]
  },
  {
   "cell_type": "code",
   "execution_count": null,
   "id": "08e6bcbf",
   "metadata": {},
   "outputs": [],
   "source": []
  }
 ],
 "metadata": {
  "kernelspec": {
   "display_name": "Python 3 (ipykernel)",
   "language": "python",
   "name": "python3"
  },
  "language_info": {
   "codemirror_mode": {
    "name": "ipython",
    "version": 3
   },
   "file_extension": ".py",
   "mimetype": "text/x-python",
   "name": "python",
   "nbconvert_exporter": "python",
   "pygments_lexer": "ipython3",
   "version": "3.11.3"
  }
 },
 "nbformat": 4,
 "nbformat_minor": 5
}
