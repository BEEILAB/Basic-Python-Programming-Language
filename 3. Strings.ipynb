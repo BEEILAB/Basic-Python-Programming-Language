{
  "cells": [
    {
      "cell_type": "code",
      "execution_count": null,
      "id": "38f167e1",
      "metadata": {
        "id": "38f167e1",
        "outputId": "a94c86c6-2bfe-4142-a46d-911875d10e00"
      },
      "outputs": [
        {
          "name": "stdout",
          "output_type": "stream",
          "text": [
            "BEEILAB\n"
          ]
        }
      ],
      "source": [
        "print(\"BEEILAB\")"
      ]
    },
    {
      "cell_type": "code",
      "execution_count": null,
      "id": "e1b47c8d",
      "metadata": {
        "id": "e1b47c8d",
        "outputId": "c7fd94b4-c20b-46a1-fa89-5a24f8d5e9d2"
      },
      "outputs": [
        {
          "name": "stdout",
          "output_type": "stream",
          "text": [
            "Hello and welcome to BE E ILAB,\n",
            "        your channel for Python\n",
            "        and geospatial science.\n",
            "   \n"
          ]
        }
      ],
      "source": [
        "# Assign a multiline string to variable 'a'\n",
        "a = \"\"\"Hello and welcome to BE E ILAB,\n",
        "        your channel for Python\n",
        "        and geospatial science.\n",
        "   \"\"\"\n",
        "# Print the content of the variable 'a'\n",
        "print(a)"
      ]
    },
    {
      "cell_type": "code",
      "execution_count": null,
      "id": "80b33fa3",
      "metadata": {
        "id": "80b33fa3",
        "outputId": "0ee2fb3d-a5a8-4a64-f1af-565428b4ee5e"
      },
      "outputs": [
        {
          "name": "stdout",
          "output_type": "stream",
          "text": [
            "G\n"
          ]
        }
      ],
      "source": [
        "# Define a string\n",
        "s = \"Geospatial\"\n",
        "# Access the first character using square brackets\n",
        "print(s[0])"
      ]
    },
    {
      "cell_type": "code",
      "execution_count": null,
      "id": "e2d3c3bb",
      "metadata": {
        "id": "e2d3c3bb",
        "outputId": "e935d4ae-f4be-4890-8778-1edddf95e26a"
      },
      "outputs": [
        {
          "name": "stdout",
          "output_type": "stream",
          "text": [
            "14\n"
          ]
        }
      ],
      "source": [
        "# Define a string\n",
        "s = \"Remote Sensing\"\n",
        "# Get the length of the string\n",
        "print(len(s))"
      ]
    },
    {
      "cell_type": "code",
      "execution_count": null,
      "id": "bdd5034f",
      "metadata": {
        "id": "bdd5034f",
        "outputId": "3986a84c-088f-4af5-d744-a7c44cb63178"
      },
      "outputs": [
        {
          "name": "stdout",
          "output_type": "stream",
          "text": [
            "True\n"
          ]
        }
      ],
      "source": [
        "# Define a multiline string\n",
        "s = '''Remote sensing is the process of detecting\n",
        "        and monitoring the physical characteristics\n",
        "        of an area by measuring its reflected and emitted\n",
        "        radiation at a distance.'''\n",
        "# Check if the substring \"process\" is in the string\n",
        "print(\"process \" in s)\n"
      ]
    },
    {
      "cell_type": "code",
      "execution_count": null,
      "id": "014237f1",
      "metadata": {
        "id": "014237f1",
        "outputId": "82e7c07c-2cc0-40cb-cb52-8d02baf82d23"
      },
      "outputs": [
        {
          "name": "stdout",
          "output_type": "stream",
          "text": [
            "Yes, 'sensing' is present.\n"
          ]
        }
      ],
      "source": [
        "# Define a multiline string\n",
        "s = '''Remote sensing is the process of detecting\n",
        "        and monitoring the physical characteristics\n",
        "        of an area by measuring its reflected and emitted\n",
        "        radiation at a distance.'''\n",
        "# Perform a conditional check\n",
        "if \"sensing\" in s:\n",
        "    print(\"Yes, 'sensing' is present.\")\n"
      ]
    },
    {
      "cell_type": "code",
      "execution_count": null,
      "id": "7af42ce5",
      "metadata": {
        "id": "7af42ce5",
        "outputId": "9ac32409-7993-4151-99a6-d3f65d008138"
      },
      "outputs": [
        {
          "name": "stdout",
          "output_type": "stream",
          "text": [
            "No, 'GIS' is not present.\n"
          ]
        }
      ],
      "source": [
        "# Define a multiline string\n",
        "s = '''Remote sensing is the process of detecting\n",
        "        and monitoring the physical characteristics\n",
        "        of an area by measuring it's reflected and emitted\n",
        "        radiation at a distance.'''\n",
        "# Check if 'GIS' is not present\n",
        "if \"GIS\" not in s:\n",
        "    print(\"No, 'GIS' is not present.\")\n"
      ]
    },
    {
      "cell_type": "code",
      "execution_count": null,
      "id": "7810786b",
      "metadata": {
        "id": "7810786b",
        "outputId": "3e0343ef-7c8b-4d80-90cb-a762ba242a03"
      },
      "outputs": [
        {
          "name": "stdout",
          "output_type": "stream",
          "text": [
            "mot\n"
          ]
        }
      ],
      "source": [
        "# Define a string\n",
        "b = \"Remote Sensing\"\n",
        "\n",
        "# Use slicing to extract a substring\n",
        "print(b[2:5])"
      ]
    },
    {
      "cell_type": "code",
      "execution_count": null,
      "id": "bacba6a6",
      "metadata": {
        "id": "bacba6a6",
        "outputId": "74003814-8126-4c8a-bf07-8171053a7f55"
      },
      "outputs": [
        {
          "name": "stdout",
          "output_type": "stream",
          "text": [
            "Remote\n"
          ]
        }
      ],
      "source": [
        "# Define a string\n",
        "s = \"Remote Sensing\"\n",
        "\n",
        "# Use slicing without the start index\n",
        "print(s[:6])"
      ]
    },
    {
      "cell_type": "code",
      "execution_count": null,
      "id": "8f4995dd",
      "metadata": {
        "id": "8f4995dd",
        "outputId": "0db3e161-382f-40af-8e35-18d2274615f5"
      },
      "outputs": [
        {
          "name": "stdout",
          "output_type": "stream",
          "text": [
            "patial\n"
          ]
        }
      ],
      "source": [
        "# Define a string\n",
        "s = \"Geospatial\"\n",
        "\n",
        "# Use slicing without the end index\n",
        "print(s[4:])"
      ]
    },
    {
      "cell_type": "code",
      "execution_count": null,
      "id": "9268c218",
      "metadata": {
        "id": "9268c218",
        "outputId": "755c86f5-5407-4b57-8a1a-997f4e609cb8"
      },
      "outputs": [
        {
          "name": "stdout",
          "output_type": "stream",
          "text": [
            "at\n"
          ]
        }
      ],
      "source": [
        "# Define a string\n",
        "s = \"Geospatial\"\n",
        "\n",
        "# Use negative indexing in string slicing\n",
        "print(s[-5:-3])"
      ]
    },
    {
      "cell_type": "code",
      "execution_count": null,
      "id": "3968af73",
      "metadata": {
        "id": "3968af73",
        "outputId": "f2ca24a2-c1e0-4932-83c7-c9e01da4305a"
      },
      "outputs": [
        {
          "name": "stdout",
          "output_type": "stream",
          "text": [
            "GIS\n"
          ]
        }
      ],
      "source": [
        "# Define a string\n",
        "s = \"gis\"\n",
        "\n",
        "# Use the upper() method to convert to uppercase\n",
        "print(s.upper())"
      ]
    },
    {
      "cell_type": "code",
      "execution_count": null,
      "id": "196adac5",
      "metadata": {
        "id": "196adac5",
        "outputId": "63abd2cf-3ba2-44b5-9040-8bbbb81604ab"
      },
      "outputs": [
        {
          "name": "stdout",
          "output_type": "stream",
          "text": [
            "gis\n"
          ]
        }
      ],
      "source": [
        "# Define a string\n",
        "s = \"GIS\"\n",
        "\n",
        "# Use the lower() method to convert to lowercase\n",
        "print(s.lower())"
      ]
    },
    {
      "cell_type": "code",
      "execution_count": null,
      "id": "f24f1fd0",
      "metadata": {
        "id": "f24f1fd0",
        "outputId": "a589f700-782c-4e29-edb1-c57537ef384d"
      },
      "outputs": [
        {
          "name": "stdout",
          "output_type": "stream",
          "text": [
            "BIS\n"
          ]
        }
      ],
      "source": [
        "# Define a string\n",
        "s = \"GIS\"\n",
        "\n",
        "# Use the replace() method to substitute characters\n",
        "modified_s = s.replace(\"G\", \"B\")\n",
        "\n",
        "# Print the modified string\n",
        "print(modified_s)"
      ]
    },
    {
      "cell_type": "code",
      "execution_count": null,
      "id": "5f09b68e",
      "metadata": {
        "scrolled": true,
        "id": "5f09b68e",
        "outputId": "f85b25aa-7248-486a-d3d6-b21766e23154"
      },
      "outputs": [
        {
          "name": "stdout",
          "output_type": "stream",
          "text": [
            "['Remote', ' Sensing']\n"
          ]
        }
      ],
      "source": [
        "# Define a string with comma-separated values\n",
        "s = \"Remote, Sensing\"\n",
        "\n",
        "# Use the split() method to create a list of substrings\n",
        "split_values = s.split(\",\")\n",
        "\n",
        "# Print the result\n",
        "print(split_values)"
      ]
    },
    {
      "cell_type": "code",
      "execution_count": null,
      "id": "36c60f14",
      "metadata": {
        "id": "36c60f14",
        "outputId": "ed4f2929-8cd8-4c7f-d35f-3f49efd8021c"
      },
      "outputs": [
        {
          "name": "stdout",
          "output_type": "stream",
          "text": [
            "RemoteSensing\n"
          ]
        }
      ],
      "source": [
        "# Define two strings\n",
        "x = \"Remote\"\n",
        "y = \"Sensing\"\n",
        "\n",
        "# Concatenate the strings\n",
        "z = x + y\n",
        "\n",
        "# Print the result\n",
        "print(z)"
      ]
    },
    {
      "cell_type": "code",
      "execution_count": null,
      "id": "0a352f11",
      "metadata": {
        "id": "0a352f11",
        "outputId": "4d785fec-7c9d-4687-f577-b7e351f6ed8f"
      },
      "outputs": [
        {
          "ename": "TypeError",
          "evalue": "can only concatenate str (not \"int\") to str",
          "output_type": "error",
          "traceback": [
            "\u001b[1;31m---------------------------------------------------------------------------\u001b[0m",
            "\u001b[1;31mTypeError\u001b[0m                                 Traceback (most recent call last)",
            "Cell \u001b[1;32mIn[47], line 3\u001b[0m\n\u001b[0;32m      1\u001b[0m \u001b[38;5;66;03m# Error in string formatting\u001b[39;00m\n\u001b[0;32m      2\u001b[0m year \u001b[38;5;241m=\u001b[39m \u001b[38;5;241m2020\u001b[39m\n\u001b[1;32m----> 3\u001b[0m message \u001b[38;5;241m=\u001b[39m \u001b[38;5;124m\"\u001b[39m\u001b[38;5;124mThis paper was published in\u001b[39m\u001b[38;5;124m\"\u001b[39m \u001b[38;5;241m+\u001b[39m year\n\u001b[0;32m      4\u001b[0m \u001b[38;5;28mprint\u001b[39m(message)\n",
            "\u001b[1;31mTypeError\u001b[0m: can only concatenate str (not \"int\") to str"
          ]
        }
      ],
      "source": [
        "# Error in string formatting\n",
        "year = 2020\n",
        "message = \"This paper was published in\" + year\n",
        "print(message)"
      ]
    },
    {
      "cell_type": "code",
      "execution_count": null,
      "id": "a1ae9ac1",
      "metadata": {
        "id": "a1ae9ac1",
        "outputId": "4fe2b1f6-7cdf-4b75-cfdd-bd9b94334624"
      },
      "outputs": [
        {
          "name": "stdout",
          "output_type": "stream",
          "text": [
            "This paper was published in 2020\n"
          ]
        }
      ],
      "source": [
        "# Corrected string formatting\n",
        "year = 2020\n",
        "message = \"This paper was published in \" + str(year)\n",
        "print(message)"
      ]
    },
    {
      "cell_type": "code",
      "execution_count": null,
      "id": "f8c15e48",
      "metadata": {
        "id": "f8c15e48"
      },
      "outputs": [],
      "source": []
    }
  ],
  "metadata": {
    "kernelspec": {
      "display_name": "Python 3 (ipykernel)",
      "language": "python",
      "name": "python3"
    },
    "language_info": {
      "codemirror_mode": {
        "name": "ipython",
        "version": 3
      },
      "file_extension": ".py",
      "mimetype": "text/x-python",
      "name": "python",
      "nbconvert_exporter": "python",
      "pygments_lexer": "ipython3",
      "version": "3.11.3"
    },
    "colab": {
      "provenance": []
    }
  },
  "nbformat": 4,
  "nbformat_minor": 5
}