{
  "cells": [
    {
      "cell_type": "code",
      "execution_count": null,
      "id": "78973985",
      "metadata": {
        "id": "78973985",
        "outputId": "9cd9896d-8f2e-4c9d-a7d4-9379128d2ca1"
      },
      "outputs": [
        {
          "name": "stdout",
          "output_type": "stream",
          "text": [
            "(1, 2, 3, 4, 5)\n",
            "('One', 'Two', 'Three')\n",
            "(1, 'Two', 3, 'Four', 5)\n"
          ]
        }
      ],
      "source": [
        "# Creating a tuple of numbers\n",
        "my_tuple1 = (1, 2, 3, 4, 5)\n",
        "print(my_tuple1)\n",
        "# Creating a tuple of strings\n",
        "my_tuple2 = ('One', 'Two', 'Three')\n",
        "print(my_tuple2)\n",
        "# Creating a hybrid tuple of numbers and strings\n",
        "my_tuple3 = (1, 'Two', 3, 'Four', 5)\n",
        "print(my_tuple3)"
      ]
    },
    {
      "cell_type": "code",
      "execution_count": null,
      "id": "05b5ceef",
      "metadata": {
        "id": "05b5ceef",
        "outputId": "d6eee88f-2392-46fb-9ada-0d2fa595fdd7"
      },
      "outputs": [
        {
          "name": "stdout",
          "output_type": "stream",
          "text": [
            "For the tuple: (1, 2, 3, 4, 5)\n",
            "First Element: 1\n",
            "Third Element: 3\n",
            "Subset: (2, 3)\n"
          ]
        }
      ],
      "source": [
        "my_tuple = (1, 2, 3, 4, 5)\n",
        "# Accessing elements in a tuple\n",
        "first_element = my_tuple[0]  # Accessing the first element\n",
        "third_element = my_tuple[2]  # Accessing the third element\n",
        "# Slicing a tuple\n",
        "subset = my_tuple[1:3]  # Extracting a subset from index 1 to 2\n",
        "# Displaying the results\n",
        "print(\"For the tuple:\", my_tuple)\n",
        "print(\"First Element:\", first_element)\n",
        "print(\"Third Element:\", third_element)\n",
        "print(\"Subset:\", subset)"
      ]
    },
    {
      "cell_type": "code",
      "execution_count": null,
      "id": "7b3d0414",
      "metadata": {
        "id": "7b3d0414",
        "outputId": "46d54285-184b-4a5a-f516-ec1c49e00171"
      },
      "outputs": [
        {
          "name": "stdout",
          "output_type": "stream",
          "text": [
            "Length of Tuple: 4\n",
            "'hello' Present?: True\n",
            "Concatenated Tuple: (1, 'hello', 3.14, True, 4, False)\n"
          ]
        }
      ],
      "source": [
        "# Creating a simple tuple\n",
        "my_tuple = (1, 'hello', 3.14, True)\n",
        "# Finding the length of a tuple\n",
        "tuple_length = len(my_tuple)\n",
        "# Checking if an element is present\n",
        "is_present = 'hello' in my_tuple\n",
        "# Concatenating tuples\n",
        "concatenated_tuple = my_tuple + (4, False)\n",
        "# Displaying the results\n",
        "print(\"Length of Tuple:\", tuple_length)\n",
        "print(\"'hello' Present?:\", is_present)\n",
        "print(\"Concatenated Tuple:\", concatenated_tuple)"
      ]
    },
    {
      "cell_type": "code",
      "execution_count": null,
      "id": "028222d1",
      "metadata": {
        "id": "028222d1",
        "outputId": "0080045d-a124-4f68-d1ba-0748e1350f61"
      },
      "outputs": [
        {
          "name": "stdout",
          "output_type": "stream",
          "text": [
            "Modified Tuple: ('Modified', 3.14, True, 'BEEILAB')\n"
          ]
        }
      ],
      "source": [
        "# Creating a tuple\n",
        "original_tuple = (1, 'hello', 3.14, True)\n",
        "# Converting tuple to list for modification\n",
        "tuple_list = list(original_tuple)\n",
        "tuple_list[0] = 'Modified'\n",
        "# Modifying by removing and adding elements\n",
        "tuple_list.remove('hello')  # Removing an element\n",
        "tuple_list.append('BEEILAB')  # Adding a new element\n",
        "# Converting the list back to a tuple\n",
        "modified_tuple = tuple(tuple_list)\n",
        "# Displaying the modified tuple\n",
        "print(\"Modified Tuple:\", modified_tuple)"
      ]
    },
    {
      "cell_type": "code",
      "execution_count": null,
      "id": "54056a08",
      "metadata": {
        "id": "54056a08",
        "outputId": "b8574780-a796-41a9-994c-98038c20e6d4"
      },
      "outputs": [
        {
          "name": "stdout",
          "output_type": "stream",
          "text": [
            "Example Tuple: (1, 2, 3, 4, 2, 5, 2)\n",
            "Count of 2: 3\n",
            "Index of 4: 3\n"
          ]
        }
      ],
      "source": [
        "# Creating a tuple\n",
        "example_tuple = (1, 2, 3, 4, 2, 5, 2)\n",
        "print(\"Example Tuple:\", example_tuple)\n",
        "\n",
        "# Using the count method\n",
        "count_of_2 = example_tuple.count(2)\n",
        "print(\"Count of 2:\", count_of_2)\n",
        "\n",
        "# Using the index method\n",
        "index_of_4 = example_tuple.index(4)\n",
        "print(\"Index of 4:\", index_of_4)"
      ]
    },
    {
      "cell_type": "code",
      "execution_count": null,
      "id": "e75a94ca",
      "metadata": {
        "id": "e75a94ca"
      },
      "outputs": [],
      "source": [
        "# Challenge Tuple\n",
        "challenge_tuple = (4, 2, 7, 4, 1, 8, 4, 6)\n",
        "\n",
        "# Your Challenge:\n",
        "# 1. Use the ____ method to find the number of occurrences of the element '4' in the tuple.\n",
        "# 2. Use the ____ method to find the index of the first occurrence of the element '7'.\n",
        "\n",
        "# Now, let's print the results\n",
        "print(\"Number of occurrences of '4':\", ____)\n",
        "print(\"Index of the first occurrence of '7':\", ____)"
      ]
    },
    {
      "cell_type": "code",
      "execution_count": null,
      "id": "47fce070",
      "metadata": {
        "id": "47fce070"
      },
      "outputs": [],
      "source": []
    }
  ],
  "metadata": {
    "kernelspec": {
      "display_name": "Python 3 (ipykernel)",
      "language": "python",
      "name": "python3"
    },
    "language_info": {
      "codemirror_mode": {
        "name": "ipython",
        "version": 3
      },
      "file_extension": ".py",
      "mimetype": "text/x-python",
      "name": "python",
      "nbconvert_exporter": "python",
      "pygments_lexer": "ipython3",
      "version": "3.11.3"
    },
    "colab": {
      "provenance": []
    }
  },
  "nbformat": 4,
  "nbformat_minor": 5
}